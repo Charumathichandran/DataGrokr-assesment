{
 "cells": [
  {
   "cell_type": "markdown",
   "metadata": {
    "id": "GZZh1QpLE2Fr"
   },
   "source": [
    "**REG NO : 19BCS4018**"
   ]
  },
  {
   "cell_type": "markdown",
   "metadata": {
    "id": "xMh9Zk72FVQu"
   },
   "source": [
    "**NAME : CHARUMATHI C**"
   ]
  },
  {
   "cell_type": "markdown",
   "metadata": {
    "id": "Jx-BHo6SF3Jj"
   },
   "source": [
    "**COLLEGE : M.KUMARASAMY COLLEGE OF ENGINEERING,KARUR**"
   ]
  },
  {
   "cell_type": "markdown",
   "metadata": {
    "id": "yUH3PSOHEuKf"
   },
   "source": [
    "**Section 1: Environment setup and data loading**"
   ]
  },
  {
   "cell_type": "code",
   "execution_count": 1,
   "metadata": {
    "colab": {
     "base_uri": "https://localhost:8080/"
    },
    "id": "iejku7vr7gPs",
    "outputId": "3d8683b4-b703-4d87-c7d1-1d22182a338c"
   },
   "outputs": [
    {
     "name": "stdout",
     "output_type": "stream",
     "text": [
      "\r",
      "0% [Working]\r",
      "            \r",
      "Get:1 http://security.ubuntu.com/ubuntu bionic-security InRelease [88.7 kB]\n",
      "\r",
      "0% [Connecting to archive.ubuntu.com (185.125.190.39)] [1 InRelease 14.2 kB/88.\r",
      "                                                                               \r",
      "Get:2 https://cloud.r-project.org/bin/linux/ubuntu bionic-cran40/ InRelease [3,626 B]\n",
      "\r",
      "0% [Waiting for headers] [1 InRelease 37.3 kB/88.7 kB 42%] [2 InRelease 0 B/3,6\r",
      "0% [Waiting for headers] [1 InRelease 54.7 kB/88.7 kB 62%] [Waiting for headers\r",
      "0% [2 InRelease gpgv 3,626 B] [Waiting for headers] [1 InRelease 54.7 kB/88.7 k\r",
      "0% [2 InRelease gpgv 3,626 B] [Waiting for headers] [Waiting for headers] [Wait\r",
      "                                                                               \r",
      "Hit:3 http://ppa.launchpad.net/c2d4u.team/c2d4u4.0+/ubuntu bionic InRelease\n",
      "\r",
      "                                                                               \r",
      "0% [2 InRelease gpgv 3,626 B] [Waiting for headers] [Waiting for headers]\r",
      "                                                                         \r",
      "Hit:4 http://archive.ubuntu.com/ubuntu bionic InRelease\n",
      "\r",
      "0% [2 InRelease gpgv 3,626 B] [Waiting for headers] [Connecting to ppa.launchpa\r",
      "                                                                               \r",
      "Ign:5 https://developer.download.nvidia.com/compute/machine-learning/repos/ubuntu1804/x86_64  InRelease\n",
      "\r",
      "0% [2 InRelease gpgv 3,626 B] [Waiting for headers] [Waiting for headers] [Conn\r",
      "                                                                               \r",
      "Hit:6 https://developer.download.nvidia.com/compute/cuda/repos/ubuntu1804/x86_64  InRelease\n",
      "Hit:7 https://developer.download.nvidia.com/compute/machine-learning/repos/ubuntu1804/x86_64  Release\n",
      "Get:8 http://archive.ubuntu.com/ubuntu bionic-updates InRelease [88.7 kB]\n",
      "Hit:9 http://ppa.launchpad.net/cran/libgit2/ubuntu bionic InRelease\n",
      "Hit:10 http://ppa.launchpad.net/deadsnakes/ppa/ubuntu bionic InRelease\n",
      "Get:11 http://archive.ubuntu.com/ubuntu bionic-backports InRelease [74.6 kB]\n",
      "Get:12 http://security.ubuntu.com/ubuntu bionic-security/universe amd64 Packages [1,540 kB]\n",
      "Hit:13 http://ppa.launchpad.net/graphics-drivers/ppa/ubuntu bionic InRelease\n",
      "Get:14 http://security.ubuntu.com/ubuntu bionic-security/restricted amd64 Packages [1,114 kB]\n",
      "Get:15 http://security.ubuntu.com/ubuntu bionic-security/main amd64 Packages [2,953 kB]\n",
      "Get:17 http://archive.ubuntu.com/ubuntu bionic-updates/restricted amd64 Packages [1,162 kB]\n",
      "Get:18 http://archive.ubuntu.com/ubuntu bionic-updates/main amd64 Packages [3,390 kB]\n",
      "Fetched 10.4 MB in 3s (3,286 kB/s)\n",
      "Reading package lists... Done\n"
     ]
    }
   ],
   "source": [
    "!apt-get update -y"
   ]
  },
  {
   "cell_type": "markdown",
   "metadata": {
    "id": "cq7RlkpvE1JM"
   },
   "source": []
  },
  {
   "cell_type": "code",
   "execution_count": 2,
   "metadata": {
    "id": "1ItDG1jz8uAG"
   },
   "outputs": [],
   "source": [
    "!apt-get install openjdk-8-jdk-headless -qq > /dev/null"
   ]
  },
  {
   "cell_type": "code",
   "execution_count": 3,
   "metadata": {
    "id": "e3DRuaq580w3"
   },
   "outputs": [],
   "source": [
    "!wget -q https://archive.apache.org/dist/spark/spark-3.1.2/spark-3.1.2-bin-hadoop2.7.tgz"
   ]
  },
  {
   "cell_type": "code",
   "execution_count": 4,
   "metadata": {
    "id": "6UHYMdqj86GQ"
   },
   "outputs": [],
   "source": [
    "!tar xf spark-3.1.2-bin-hadoop2.7.tgz"
   ]
  },
  {
   "cell_type": "code",
   "execution_count": 5,
   "metadata": {
    "id": "iMdwrAuy9LuW"
   },
   "outputs": [],
   "source": [
    "import os\n",
    "os.environ[\"JAVA_HOME\"] = \"/usr/lib/jvm/java-8-openjdk-amd64\"\n",
    "os.environ[\"SPARK_HOME\"] = \"/content/spark-3.1.2-bin-hadoop2.7\""
   ]
  },
  {
   "cell_type": "code",
   "execution_count": 6,
   "metadata": {
    "id": "LGc_pAc59UdA"
   },
   "outputs": [],
   "source": [
    "!pip install -q findspark\n",
    "import findspark\n",
    "findspark.init()"
   ]
  },
  {
   "cell_type": "code",
   "execution_count": 7,
   "metadata": {
    "id": "7ag5UD6O9Yjn"
   },
   "outputs": [],
   "source": [
    "from pyspark.sql import SparkSession\n",
    "\n",
    "spark = SparkSession.builder\\\n",
    "        .master(\"local\")\\\n",
    "        .appName(\"Colab\")\\\n",
    "        .config('spark.ui.port', '4050')\\\n",
    "        .getOrCreate()"
   ]
  },
  {
   "cell_type": "code",
   "execution_count": 8,
   "metadata": {
    "id": "skn6BKnb9oPI"
   },
   "outputs": [],
   "source": [
    "import gdown"
   ]
  },
  {
   "cell_type": "code",
   "execution_count": 9,
   "metadata": {
    "colab": {
     "base_uri": "https://localhost:8080/"
    },
    "id": "32fKNPvh9rE2",
    "outputId": "d994086c-7beb-49b1-d4e1-ba3d8af375b8"
   },
   "outputs": [
    {
     "data": {
      "text/plain": [
       "['/content/chess/chess_schema.png',\n",
       " '/content/chess/chess_wc_history_game_info.csv',\n",
       " '/content/chess/chess_wc_history_moves.csv',\n",
       " '/content/chess/eco_codes.csv']"
      ]
     },
     "execution_count": 9,
     "metadata": {},
     "output_type": "execute_result"
    }
   ],
   "source": [
    "gdown.download_folder(id='1QgWPHV_l25Ui9L7et8mkZohAOG59UTkQ', quiet=True, use_cookies=False)"
   ]
  },
  {
   "cell_type": "code",
   "execution_count": 10,
   "metadata": {
    "id": "NZCOJjskCnyk"
   },
   "outputs": [],
   "source": [
    "h_data = spark.read.csv(\"/content/chess/chess_wc_history_game_info.csv\", header=True, inferSchema=True)\n",
    "m_data = spark.read.csv(\"/content/chess/chess_wc_history_moves.csv\", header=True, inferSchema=True)\n",
    "eco_data = spark.read.csv(\"/content/chess/eco_codes.csv\", header=True, inferSchema=True)"
   ]
  },
  {
   "cell_type": "code",
   "execution_count": 11,
   "metadata": {
    "id": "BouJwtt3_dLs"
   },
   "outputs": [],
   "source": [
    "from pyspark.sql.window import Window\n",
    "import pyspark.sql.functions as F"
   ]
  },
  {
   "cell_type": "code",
   "execution_count": 12,
   "metadata": {
    "colab": {
     "base_uri": "https://localhost:8080/"
    },
    "id": "_g2_a-pP_hVj",
    "outputId": "d950073a-725c-442b-d4b7-08eafcc7af55"
   },
   "outputs": [
    {
     "name": "stdout",
     "output_type": "stream",
     "text": [
      "+------------------+-----+\n",
      "|            winner|count|\n",
      "+------------------+-----+\n",
      "|   Fridman, Daniel|    2|\n",
      "|    Svidler, Peter|    4|\n",
      "|   Alterman, Boris|    1|\n",
      "|        Ivanchuk,V|   12|\n",
      "|    Andersson, Ulf|    5|\n",
      "|   Jussupow, Artur|    1|\n",
      "|          Piket,Je|    3|\n",
      "|    Van Wely, Loek|    4|\n",
      "|       Onischuk,Al|    1|\n",
      "|      Peng Xiaomin|    5|\n",
      "|    Kacheishvili,G|    1|\n",
      "|      Vladimirov,E|    4|\n",
      "|          Luther,T|    3|\n",
      "| Ivanchuk, Vassily|    4|\n",
      "| Steinitz, William|   43|\n",
      "|         Carlsen,M|    4|\n",
      "|         Ivanov,AV|    1|\n",
      "|Istratescu, Andrei|    2|\n",
      "|        Tiviakov,S|    5|\n",
      "|   Karpov, Anatoly|   47|\n",
      "+------------------+-----+\n",
      "only showing top 20 rows\n",
      "\n"
     ]
    }
   ],
   "source": [
    "h_data.groupBy('winner').count().show()"
   ]
  },
  {
   "cell_type": "code",
   "execution_count": 13,
   "metadata": {
    "colab": {
     "base_uri": "https://localhost:8080/"
    },
    "id": "XGoT-LWU_px0",
    "outputId": "9f568138-dd85-4fb3-e16f-fa0902c020ef"
   },
   "outputs": [
    {
     "name": "stdout",
     "output_type": "stream",
     "text": [
      "+---------------+-----+\n",
      "|tournament_name|count|\n",
      "+---------------+-----+\n",
      "| WorldChamp2004|   14|\n",
      "| WorldChamp1894|   19|\n",
      "| WorldChamp2013|   10|\n",
      "| WorldChamp2007|   56|\n",
      "|  FideChamp2000|  345|\n",
      "|  FideChamp1993|   21|\n",
      "|WorldChamp1910b|   11|\n",
      "| WorldChamp1921|   14|\n",
      "| WorldChamp1958|   23|\n",
      "| WorldChamp1981|   18|\n",
      "| WorldChamp1978|   32|\n",
      "| WorldChamp1961|   21|\n",
      "| WorldChamp1960|   21|\n",
      "| WorldChamp1948|   50|\n",
      "| WorldChamp1929|   25|\n",
      "| WorldChamp1934|   26|\n",
      "| WorldChamp1986|   24|\n",
      "|   PCAChamp1995|   18|\n",
      "| WorldChamp1886|   20|\n",
      "| WorldChamp1951|   24|\n",
      "+---------------+-----+\n",
      "only showing top 20 rows\n",
      "\n"
     ]
    }
   ],
   "source": [
    "h_data.groupBy('tournament_name').count().show()"
   ]
  },
  {
   "cell_type": "code",
   "execution_count": 14,
   "metadata": {
    "colab": {
     "base_uri": "https://localhost:8080/"
    },
    "id": "MnuZL-JSEam5",
    "outputId": "af1dda01-7a16-4cfa-b803-27c2c5d79dd0"
   },
   "outputs": [
    {
     "data": {
      "text/plain": [
       "2938"
      ]
     },
     "execution_count": 14,
     "metadata": {},
     "output_type": "execute_result"
    }
   ],
   "source": [
    "h_data.count()"
   ]
  },
  {
   "cell_type": "code",
   "execution_count": 15,
   "metadata": {
    "colab": {
     "base_uri": "https://localhost:8080/"
    },
    "id": "_HH295wbDfCi",
    "outputId": "dcbbf6da-65a1-43ed-f39b-8d94aacf9420"
   },
   "outputs": [
    {
     "name": "stdout",
     "output_type": "stream",
     "text": [
      "root\n",
      " |-- game_id: string (nullable = true)\n",
      " |-- game_order: integer (nullable = true)\n",
      " |-- event: string (nullable = true)\n",
      " |-- site: string (nullable = true)\n",
      " |-- date_played: string (nullable = true)\n",
      " |-- round: double (nullable = true)\n",
      " |-- white: string (nullable = true)\n",
      " |-- black: string (nullable = true)\n",
      " |-- result: string (nullable = true)\n",
      " |-- white_elo: integer (nullable = true)\n",
      " |-- black_elo: integer (nullable = true)\n",
      " |-- white_title: string (nullable = true)\n",
      " |-- black_title: string (nullable = true)\n",
      " |-- winner: string (nullable = true)\n",
      " |-- winner_elo: integer (nullable = true)\n",
      " |-- loser: string (nullable = true)\n",
      " |-- loser_elo: integer (nullable = true)\n",
      " |-- winner_loser_elo_diff: integer (nullable = true)\n",
      " |-- eco: string (nullable = true)\n",
      " |-- date_created: string (nullable = true)\n",
      " |-- tournament_name: string (nullable = true)\n",
      "\n"
     ]
    }
   ],
   "source": [
    "h_data.printSchema()"
   ]
  },
  {
   "cell_type": "markdown",
   "metadata": {
    "id": "CXTG59SGEZdB"
   },
   "source": [
    "**Section 2: Using pySpark for data analysis**"
   ]
  },
  {
   "cell_type": "markdown",
   "metadata": {
    "id": "S02cfv7SA1b-"
   },
   "source": [
    "**1. List of Winners of Each World champions Trophy.**"
   ]
  },
  {
   "cell_type": "code",
   "execution_count": 16,
   "metadata": {
    "colab": {
     "base_uri": "https://localhost:8080/"
    },
    "id": "0PvKvoJ19SzZ",
    "outputId": "5b3d3b10-86c4-40e6-b2f7-433dc24130a4"
   },
   "outputs": [
    {
     "name": "stdout",
     "output_type": "stream",
     "text": [
      "+------------------+---------------+\n",
      "|            winner|tournament_name|\n",
      "+------------------+---------------+\n",
      "|          Bareev,E|  FideChamp2002|\n",
      "|           Dreev,A|  FideChamp2002|\n",
      "|    Andersson, Ulf|  FideChamp1999|\n",
      "|    Svidler, Peter|  FideChamp1998|\n",
      "|         Ehlvest,J|  FideChamp2002|\n",
      "|         Delchev,A|  FideChamp2004|\n",
      "|      Ponomariov,R|  FideChamp2002|\n",
      "|      Zvjaginsev,V|  FideChamp2002|\n",
      "| Steinitz, William| WorldChamp1890|\n",
      "|          Kudrin,S|  FideChamp2004|\n",
      "|Istratescu, Andrei|  FideChamp1998|\n",
      "|          Sakaev,K|  FideChamp2002|\n",
      "|        Ciuksyte,D|  FideChamp2002|\n",
      "|         Lautier,J|  FideChamp2002|\n",
      "|      Psakhis, Lev|  FideChamp1999|\n",
      "|     Dreev, Alexey|  FideChamp1999|\n",
      "|         Kramnik,V| WorldChamp2006|\n",
      "|     Lautier, Joel|  FideChamp1999|\n",
      "|           Anand,V| WorldChamp2010|\n",
      "|        Nakamura,H|  FideChamp2004|\n",
      "+------------------+---------------+\n",
      "only showing top 20 rows\n",
      "\n"
     ]
    }
   ],
   "source": [
    "from pyspark.sql.functions import col\n",
    "h_data1 = h_data.filter(col(\"winner\") != \"draw\")\n",
    "h_data1=h_data1.select(\"winner\",\"tournament_name\")\n",
    "h_data1=h_data1.dropDuplicates([\"winner\",\"tournament_name\"]).show()"
   ]
  },
  {
   "cell_type": "markdown",
   "metadata": {
    "id": "W4cwTn_WDfOJ"
   },
   "source": [
    "**2. List of Players with number of times they have won Tournament in descending order(Max to min).**"
   ]
  },
  {
   "cell_type": "code",
   "execution_count": 17,
   "metadata": {
    "id": "QIJgMpx-DHPA"
   },
   "outputs": [],
   "source": [
    "from pyspark.sql.functions import *\n",
    "from pyspark.sql.functions import desc"
   ]
  },
  {
   "cell_type": "code",
   "execution_count": 18,
   "metadata": {
    "colab": {
     "base_uri": "https://localhost:8080/"
    },
    "id": "fsUdtyxMDL8e",
    "outputId": "090d58ec-8fb9-4269-c8da-ee7c34ffab43"
   },
   "outputs": [
    {
     "name": "stdout",
     "output_type": "stream",
     "text": [
      "+--------------------+-----+\n",
      "|              winner|count|\n",
      "+--------------------+-----+\n",
      "|     Lasker, Emanuel|   52|\n",
      "|     Karpov, Anatoly|   47|\n",
      "|  Botvinnik, Mikhail|   46|\n",
      "|   Steinitz, William|   43|\n",
      "| Alekhine, Alexander|   43|\n",
      "|           Topalov,V|   32|\n",
      "|      Kasparov, Gary|   31|\n",
      "|             Anand,V|   30|\n",
      "|    Smyslov, Vassily|   24|\n",
      "|            Adams,Mi|   20|\n",
      "|      Kasimdzhanov,R|   19|\n",
      "|          Grischuk,A|   17|\n",
      "|           Svidler,P|   16|\n",
      "|      Adams, Michael|   16|\n",
      "|            Shirov,A|   15|\n",
      "|             Dreev,A|   15|\n",
      "|            Bareev,E|   15|\n",
      "|   Chigorin, Mikhail|   14|\n",
      "|Khalifman, Alexander|   14|\n",
      "|           Euwe, Max|   14|\n",
      "+--------------------+-----+\n",
      "only showing top 20 rows\n",
      "\n"
     ]
    }
   ],
   "source": [
    "h_data2=h_data.filter(\"winner != 'draw'\").select(\"winner\")\n",
    "h_data2.groupBy(\"winner\").count().sort(desc(\"count\")).show()"
   ]
  },
  {
   "cell_type": "markdown",
   "metadata": {
    "id": "mzy2ixtNDnfW"
   },
   "source": [
    "**7. Most and Least rated Player.**"
   ]
  },
  {
   "cell_type": "code",
   "execution_count": 19,
   "metadata": {
    "colab": {
     "base_uri": "https://localhost:8080/"
    },
    "id": "QWCAM6Lxwal_",
    "outputId": "92050fab-701a-45c9-9398-6657e6659139"
   },
   "outputs": [
    {
     "name": "stdout",
     "output_type": "stream",
     "text": [
      "+-------+------------------+\n",
      "|summary|        winner_elo|\n",
      "+-------+------------------+\n",
      "|  count|              1105|\n",
      "|   mean|2658.3257918552035|\n",
      "| stddev| 80.15889290248214|\n",
      "|    min|              2271|\n",
      "|    max|              2870|\n",
      "+-------+------------------+\n",
      "\n"
     ]
    }
   ],
   "source": [
    "h_data.select(\"winner_elo\").describe().show()"
   ]
  },
  {
   "cell_type": "code",
   "execution_count": 20,
   "metadata": {
    "colab": {
     "base_uri": "https://localhost:8080/"
    },
    "id": "zvEN8wFZ3VRx",
    "outputId": "afc9d039-2ba4-418e-a472-88381905bb05"
   },
   "outputs": [
    {
     "name": "stdout",
     "output_type": "stream",
     "text": [
      "MOST RATED PLAYED\n",
      "+---------------+----------+\n",
      "|         winner|winner_elo|\n",
      "+---------------+----------+\n",
      "|Carlsen, Magnus|      2870|\n",
      "+---------------+----------+\n",
      "\n"
     ]
    }
   ],
   "source": [
    "df=h_data.filter(h_data.winner_elo==2870)\n",
    "print(\"MOST RATED PLAYED\")\n",
    "data1=df.select(\"winner\",\"winner_elo\")\n",
    "data2=data1.dropDuplicates().show()"
   ]
  },
  {
   "cell_type": "code",
   "execution_count": 21,
   "metadata": {
    "colab": {
     "base_uri": "https://localhost:8080/"
    },
    "id": "9xDrcIsd3kh4",
    "outputId": "67de0a71-05ee-46a9-ca46-f8d4c1b94506"
   },
   "outputs": [
    {
     "name": "stdout",
     "output_type": "stream",
     "text": [
      "LEAST RATED PLAYED\n",
      "+----------+----------+\n",
      "|    winner|winner_elo|\n",
      "+----------+----------+\n",
      "|Ciuksyte,D|      2271|\n",
      "+----------+----------+\n",
      "\n"
     ]
    }
   ],
   "source": [
    "df1=h_data.filter(h_data.winner_elo==2271)\n",
    "print(\"LEAST RATED PLAYED\")\n",
    "data1=df1.select(\"winner\",\"winner_elo\")\n",
    "data2=data1.dropDuplicates().show()"
   ]
  },
  {
   "cell_type": "code",
   "execution_count": 22,
   "metadata": {
    "colab": {
     "base_uri": "https://localhost:8080/"
    },
    "id": "X674Pg4sGxgU",
    "outputId": "ee37098a-fe1d-4ba4-bf40-840714a5769a"
   },
   "outputs": [
    {
     "name": "stdout",
     "output_type": "stream",
     "text": [
      "+----------------+\n",
      "|          player|\n",
      "+----------------+\n",
      "|Nepomniachtchi,I|\n",
      "|       Carlsen,M|\n",
      "|Nepomniachtchi,I|\n",
      "|       Carlsen,M|\n",
      "|Nepomniachtchi,I|\n",
      "|       Carlsen,M|\n",
      "|Nepomniachtchi,I|\n",
      "|       Carlsen,M|\n",
      "|Nepomniachtchi,I|\n",
      "|       Carlsen,M|\n",
      "|Nepomniachtchi,I|\n",
      "|       Carlsen,M|\n",
      "|Nepomniachtchi,I|\n",
      "|       Carlsen,M|\n",
      "|Nepomniachtchi,I|\n",
      "|       Carlsen,M|\n",
      "|Nepomniachtchi,I|\n",
      "|       Carlsen,M|\n",
      "|Nepomniachtchi,I|\n",
      "|       Carlsen,M|\n",
      "+----------------+\n",
      "only showing top 20 rows\n",
      "\n"
     ]
    }
   ],
   "source": [
    "m_data.select('player').show()"
   ]
  },
  {
   "cell_type": "code",
   "execution_count": 23,
   "metadata": {
    "colab": {
     "base_uri": "https://localhost:8080/"
    },
    "id": "cK1mr64nG1g6",
    "outputId": "4f54cec2-f1c1-4357-d993-64a2d8d19df8"
   },
   "outputs": [
    {
     "name": "stdout",
     "output_type": "stream",
     "text": [
      "+------------------+-----+\n",
      "|            player|count|\n",
      "+------------------+-----+\n",
      "| Hamdouchi, Hichem|  188|\n",
      "|   Fridman, Daniel|  132|\n",
      "|    Svidler, Peter|  617|\n",
      "|   Alterman, Boris|  297|\n",
      "|  Nepomniachtchi,I|  568|\n",
      "|        Ivanchuk,V| 1473|\n",
      "|    Andersson, Ulf| 1050|\n",
      "|   Jussupow, Artur|  140|\n",
      "|          Piket,Je|  301|\n",
      "|    Van Wely, Loek|  658|\n",
      "|       Onischuk,Al|  288|\n",
      "|      Peng Xiaomin|  862|\n",
      "|      Vladimirov,E|  730|\n",
      "|    Kacheishvili,G|  178|\n",
      "|          Luther,T|  245|\n",
      "| Ivanchuk, Vassily|  302|\n",
      "|Sakaev, Konstantin|   85|\n",
      "| Steinitz, William| 4989|\n",
      "|         Carlsen,M|  747|\n",
      "|         Ivanov,AV|  234|\n",
      "+------------------+-----+\n",
      "only showing top 20 rows\n",
      "\n"
     ]
    }
   ],
   "source": [
    "m_data.groupBy('player').count().show()"
   ]
  },
  {
   "cell_type": "code",
   "execution_count": null,
   "metadata": {},
   "outputs": [],
   "source": [
    "df=h_data.filter(\"winner_loser_elo_diff > '0'\").select(\"winner\",\"winner_loser_elo_diff\")\n",
    "df=df.dropDuplicates()"
   ]
  }
 ],
 "metadata": {
  "colab": {
   "collapsed_sections": [],
   "provenance": []
  },
  "kernelspec": {
   "display_name": "Python 3 (ipykernel)",
   "language": "python",
   "name": "python3"
  },
  "language_info": {
   "codemirror_mode": {
    "name": "ipython",
    "version": 3
   },
   "file_extension": ".py",
   "mimetype": "text/x-python",
   "name": "python",
   "nbconvert_exporter": "python",
   "pygments_lexer": "ipython3",
   "version": "3.9.7"
  }
 },
 "nbformat": 4,
 "nbformat_minor": 1
}
